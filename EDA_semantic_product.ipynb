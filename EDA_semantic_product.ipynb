{
  "nbformat": 4,
  "nbformat_minor": 0,
  "metadata": {
    "colab": {
      "provenance": [],
      "authorship_tag": "ABX9TyPhPlWboWrh+okncIUNAT1s",
      "include_colab_link": true
    },
    "kernelspec": {
      "name": "python3",
      "display_name": "Python 3"
    },
    "language_info": {
      "name": "python"
    }
  },
  "cells": [
    {
      "cell_type": "markdown",
      "metadata": {
        "id": "view-in-github",
        "colab_type": "text"
      },
      "source": [
        "<a href=\"https://colab.research.google.com/github/Zia-Ul-Hasan/NLP_SEMACNTIC_PRODUCT_SEARCH/blob/main/EDA_semantic_product.ipynb\" target=\"_parent\"><img src=\"https://colab.research.google.com/assets/colab-badge.svg\" alt=\"Open In Colab\"/></a>"
      ]
    },
    {
      "cell_type": "code",
      "source": [
        "import pandas as pd\n",
        "import numpy as np\n"
      ],
      "metadata": {
        "id": "6WyJ6zNoMkrV"
      },
      "execution_count": 1,
      "outputs": []
    },
    {
      "cell_type": "code",
      "execution_count": 9,
      "metadata": {
        "id": "NQ5nnwg5MRdY"
      },
      "outputs": [],
      "source": [
        "products_df = pd.read_csv('/content/product.csv', sep='\\t')\n",
        "queries_df = pd.read_csv('/content/query.csv',sep='\\t')\n",
        "labels_df = pd.read_csv('/content/label.csv',sep='\\t')"
      ]
    },
    {
      "cell_type": "code",
      "source": [
        "print(products_df.info())\n",
        "print(queries_df.info())\n",
        "print(labels_df.info())"
      ],
      "metadata": {
        "colab": {
          "base_uri": "https://localhost:8080/"
        },
        "id": "UFz3KvYZMvRc",
        "outputId": "cebb139e-ce9d-4d7c-9e31-c2b68c0aabd8"
      },
      "execution_count": 11,
      "outputs": [
        {
          "output_type": "stream",
          "name": "stdout",
          "text": [
            "<class 'pandas.core.frame.DataFrame'>\n",
            "RangeIndex: 42994 entries, 0 to 42993\n",
            "Data columns (total 9 columns):\n",
            " #   Column               Non-Null Count  Dtype  \n",
            "---  ------               --------------  -----  \n",
            " 0   product_id           42994 non-null  int64  \n",
            " 1   product_name         42994 non-null  object \n",
            " 2   product_class        40142 non-null  object \n",
            " 3   category hierarchy   41438 non-null  object \n",
            " 4   product_description  36986 non-null  object \n",
            " 5   product_features     42994 non-null  object \n",
            " 6   rating_count         33542 non-null  float64\n",
            " 7   average_rating       33542 non-null  float64\n",
            " 8   review_count         33542 non-null  float64\n",
            "dtypes: float64(3), int64(1), object(5)\n",
            "memory usage: 3.0+ MB\n",
            "None\n",
            "<class 'pandas.core.frame.DataFrame'>\n",
            "RangeIndex: 480 entries, 0 to 479\n",
            "Data columns (total 3 columns):\n",
            " #   Column       Non-Null Count  Dtype \n",
            "---  ------       --------------  ----- \n",
            " 0   query_id     480 non-null    int64 \n",
            " 1   query        480 non-null    object\n",
            " 2   query_class  474 non-null    object\n",
            "dtypes: int64(1), object(2)\n",
            "memory usage: 11.4+ KB\n",
            "None\n",
            "<class 'pandas.core.frame.DataFrame'>\n",
            "RangeIndex: 233448 entries, 0 to 233447\n",
            "Data columns (total 4 columns):\n",
            " #   Column      Non-Null Count   Dtype \n",
            "---  ------      --------------   ----- \n",
            " 0   id          233448 non-null  int64 \n",
            " 1   query_id    233448 non-null  int64 \n",
            " 2   product_id  233448 non-null  int64 \n",
            " 3   label       233448 non-null  object\n",
            "dtypes: int64(3), object(1)\n",
            "memory usage: 7.1+ MB\n",
            "None\n"
          ]
        }
      ]
    },
    {
      "cell_type": "code",
      "source": [
        "print(products_df.head())\n",
        "print(queries_df.head())\n",
        "print(labels_df.head())"
      ],
      "metadata": {
        "colab": {
          "base_uri": "https://localhost:8080/"
        },
        "id": "gNTKNoLvNjL0",
        "outputId": "0c4266ba-0072-42e3-837d-7d019356b9fe"
      },
      "execution_count": 12,
      "outputs": [
        {
          "output_type": "stream",
          "name": "stdout",
          "text": [
            "   product_id                                       product_name  \\\n",
            "0           0                            solid wood platform bed   \n",
            "1           1                        all-clad 7 qt . slow cooker   \n",
            "2           2            all-clad electrics 6.5 qt . slow cooker   \n",
            "3           3       all-clad all professional tools pizza cutter   \n",
            "4           4  baldwin prestige alcott passage knob with roun...   \n",
            "\n",
            "                  product_class  \\\n",
            "0                          Beds   \n",
            "1                  Slow Cookers   \n",
            "2                  Slow Cookers   \n",
            "3  Slicers, Peelers And Graters   \n",
            "4                    Door Knobs   \n",
            "\n",
            "                                  category hierarchy  \\\n",
            "0  Furniture / Bedroom Furniture / Beds & Headboa...   \n",
            "1  Kitchen & Tabletop / Small Kitchen Appliances ...   \n",
            "2  Kitchen & Tabletop / Small Kitchen Appliances ...   \n",
            "3                         Browse By Brand / All-Clad   \n",
            "4  Home Improvement / Doors & Door Hardware / Doo...   \n",
            "\n",
            "                                 product_description  \\\n",
            "0  good , deep sleep can be quite difficult to ha...   \n",
            "1  create delicious slow-cooked meals , from tend...   \n",
            "2  prepare home-cooked meals on any schedule with...   \n",
            "3  this original stainless tool was designed to c...   \n",
            "4  the hardware has a rich heritage of delivering...   \n",
            "\n",
            "                                    product_features  rating_count  \\\n",
            "0  overallwidth-sidetoside:64.7|dsprimaryproducts...          15.0   \n",
            "1  capacityquarts:7|producttype : slow cooker|pro...         100.0   \n",
            "2  features : keep warm setting|capacityquarts:6....         208.0   \n",
            "3  overallwidth-sidetoside:3.5|warrantylength : l...          69.0   \n",
            "4  compatibledoorthickness:1.375 '' |countryofori...          70.0   \n",
            "\n",
            "   average_rating  review_count  \n",
            "0             4.5          15.0  \n",
            "1             2.0          98.0  \n",
            "2             3.0         181.0  \n",
            "3             4.5          42.0  \n",
            "4             5.0          42.0  \n",
            "   query_id                      query               query_class\n",
            "0         0                salon chair            Massage Chairs\n",
            "1         1         smart coffee table  Coffee & Cocktail Tables\n",
            "2         2                   dinosaur           Kids Wall Décor\n",
            "3         3          turquoise pillows            Accent Pillows\n",
            "4         4  chair and a half recliner                 Recliners\n",
            "   id  query_id  product_id       label\n",
            "0   0         0       25434       Exact\n",
            "1   1         0       12088  Irrelevant\n",
            "2   2         0       42931       Exact\n",
            "3   3         0        2636       Exact\n",
            "4   4         0       42923       Exact\n"
          ]
        }
      ]
    },
    {
      "cell_type": "code",
      "source": [
        "merged_df = labels_df.merge(queries_df, on='query_id', how='left')\n",
        "\n",
        "merged_df = merged_df.merge(products_df, on='product_id', how='left')\n",
        "\n",
        "print(merged_df.head())"
      ],
      "metadata": {
        "colab": {
          "base_uri": "https://localhost:8080/"
        },
        "id": "n8X4_xDJOE68",
        "outputId": "016d5f15-f859-4d3f-eedf-f51707ec4732"
      },
      "execution_count": 19,
      "outputs": [
        {
          "output_type": "stream",
          "name": "stdout",
          "text": [
            "   id  query_id  product_id       label        query     query_class  \\\n",
            "0   0         0       25434       Exact  salon chair  Massage Chairs   \n",
            "1   1         0       12088  Irrelevant  salon chair  Massage Chairs   \n",
            "2   2         0       42931       Exact  salon chair  Massage Chairs   \n",
            "3   3         0        2636       Exact  salon chair  Massage Chairs   \n",
            "4   4         0       42923       Exact  salon chair  Massage Chairs   \n",
            "\n",
            "                                        product_name  \\\n",
            "0       21.7 '' w waiting room chair with wood frame   \n",
            "1                  22.5 '' wide polyester side chair   \n",
            "2      24.4 '' w metal lounge chair with metal frame   \n",
            "3  25 '' wide faux leather manual swivel standard...   \n",
            "4  27.6 '' w antimicrobial leather seat waiting r...   \n",
            "\n",
            "              product_class  \\\n",
            "0       Waiting Room Chairs   \n",
            "1             Accent Chairs   \n",
            "2  Reception Seating Chairs   \n",
            "3                 Recliners   \n",
            "4       Waiting Room Chairs   \n",
            "\n",
            "                                  category hierarchy  \\\n",
            "0  Commercial Business Furniture / Commercial Off...   \n",
            "1  Furniture / Living Room Furniture / Chairs & S...   \n",
            "2  Shop Product Type / Chairs / Guest & Reception...   \n",
            "3  Furniture / Living Room Furniture / Chairs & S...   \n",
            "4  Commercial Business Furniture / Commercial Off...   \n",
            "\n",
            "                                 product_description  \\\n",
            "0  this is a salon chair , barber chair for a hai...   \n",
            "1  add a beautiful accent to any room with this m...   \n",
            "2  the heavy duty barber chair is built to last ....   \n",
            "3  this is a chair designed for your barbershop ....   \n",
            "4                                                NaN   \n",
            "\n",
            "                                    product_features  rating_count  \\\n",
            "0  backupholsterycolor : champagne|primarymateria...           NaN   \n",
            "1  overalldepth-fronttoback:27.5|design : side ch...           NaN   \n",
            "2  color : black|seatcushionorupholsteryfillmater...           1.0   \n",
            "3  design : standard recliner|warrantylength:60 d...           5.0   \n",
            "4  backupholsterymaterial : leather|armsincluded ...           NaN   \n",
            "\n",
            "   average_rating  review_count  \n",
            "0             NaN           NaN  \n",
            "1             NaN           NaN  \n",
            "2             4.0           0.0  \n",
            "3             5.0           3.0  \n",
            "4             NaN           NaN  \n"
          ]
        }
      ]
    },
    {
      "cell_type": "code",
      "source": [
        "\n",
        "merged_df['product_text'] = (\n",
        "    merged_df['product_name'].fillna('') + ' ' +\n",
        "    merged_df['product_description'].fillna('') + ' ' +\n",
        "    merged_df['product_features'].fillna('')\n",
        ")\n",
        "print(merged_df.head())\n",
        "print(merged_df.info())\n",
        "print(merged_df.isnull().sum())\n",
        "print(merged_df.isnull().sum().sum())"
      ],
      "metadata": {
        "colab": {
          "base_uri": "https://localhost:8080/"
        },
        "id": "dwiAR9ksR35s",
        "outputId": "755c789d-899b-4d4a-b764-ebdb15768220"
      },
      "execution_count": 26,
      "outputs": [
        {
          "output_type": "stream",
          "name": "stdout",
          "text": [
            "   id  query_id  product_id       label        query     query_class  \\\n",
            "0   0         0       25434       Exact  salon chair  Massage Chairs   \n",
            "1   1         0       12088  Irrelevant  salon chair  Massage Chairs   \n",
            "2   2         0       42931       Exact  salon chair  Massage Chairs   \n",
            "3   3         0        2636       Exact  salon chair  Massage Chairs   \n",
            "4   4         0       42923       Exact  salon chair  Massage Chairs   \n",
            "\n",
            "                                        product_name  \\\n",
            "0       21.7 '' w waiting room chair with wood frame   \n",
            "1                  22.5 '' wide polyester side chair   \n",
            "2      24.4 '' w metal lounge chair with metal frame   \n",
            "3  25 '' wide faux leather manual swivel standard...   \n",
            "4  27.6 '' w antimicrobial leather seat waiting r...   \n",
            "\n",
            "              product_class  \\\n",
            "0       Waiting Room Chairs   \n",
            "1             Accent Chairs   \n",
            "2  Reception Seating Chairs   \n",
            "3                 Recliners   \n",
            "4       Waiting Room Chairs   \n",
            "\n",
            "                                  category hierarchy  \\\n",
            "0  Commercial Business Furniture / Commercial Off...   \n",
            "1  Furniture / Living Room Furniture / Chairs & S...   \n",
            "2  Shop Product Type / Chairs / Guest & Reception...   \n",
            "3  Furniture / Living Room Furniture / Chairs & S...   \n",
            "4  Commercial Business Furniture / Commercial Off...   \n",
            "\n",
            "                                 product_description  \\\n",
            "0  this is a salon chair , barber chair for a hai...   \n",
            "1  add a beautiful accent to any room with this m...   \n",
            "2  the heavy duty barber chair is built to last ....   \n",
            "3  this is a chair designed for your barbershop ....   \n",
            "4                                                NaN   \n",
            "\n",
            "                                    product_features  rating_count  \\\n",
            "0  backupholsterycolor : champagne|primarymateria...           NaN   \n",
            "1  overalldepth-fronttoback:27.5|design : side ch...           NaN   \n",
            "2  color : black|seatcushionorupholsteryfillmater...           1.0   \n",
            "3  design : standard recliner|warrantylength:60 d...           5.0   \n",
            "4  backupholsterymaterial : leather|armsincluded ...           NaN   \n",
            "\n",
            "   average_rating  review_count  \\\n",
            "0             NaN           NaN   \n",
            "1             NaN           NaN   \n",
            "2             4.0           0.0   \n",
            "3             5.0           3.0   \n",
            "4             NaN           NaN   \n",
            "\n",
            "                                        product_text  \n",
            "0  21.7 '' w waiting room chair with wood frame t...  \n",
            "1  22.5 '' wide polyester side chair add a beauti...  \n",
            "2  24.4 '' w metal lounge chair with metal frame ...  \n",
            "3  25 '' wide faux leather manual swivel standard...  \n",
            "4  27.6 '' w antimicrobial leather seat waiting r...  \n",
            "<class 'pandas.core.frame.DataFrame'>\n",
            "RangeIndex: 233448 entries, 0 to 233447\n",
            "Data columns (total 15 columns):\n",
            " #   Column               Non-Null Count   Dtype  \n",
            "---  ------               --------------   -----  \n",
            " 0   id                   233448 non-null  int64  \n",
            " 1   query_id             233448 non-null  int64  \n",
            " 2   product_id           233448 non-null  int64  \n",
            " 3   label                233448 non-null  object \n",
            " 4   query                233448 non-null  object \n",
            " 5   query_class          233120 non-null  object \n",
            " 6   product_name         233448 non-null  object \n",
            " 7   product_class        215485 non-null  object \n",
            " 8   category hierarchy   226377 non-null  object \n",
            " 9   product_description  202664 non-null  object \n",
            " 10  product_features     233448 non-null  object \n",
            " 11  rating_count         180730 non-null  float64\n",
            " 12  average_rating       180730 non-null  float64\n",
            " 13  review_count         180730 non-null  float64\n",
            " 14  product_text         233448 non-null  object \n",
            "dtypes: float64(3), int64(3), object(9)\n",
            "memory usage: 26.7+ MB\n",
            "None\n",
            "id                         0\n",
            "query_id                   0\n",
            "product_id                 0\n",
            "label                      0\n",
            "query                      0\n",
            "query_class              328\n",
            "product_name               0\n",
            "product_class          17963\n",
            "category hierarchy      7071\n",
            "product_description    30784\n",
            "product_features           0\n",
            "rating_count           52718\n",
            "average_rating         52718\n",
            "review_count           52718\n",
            "product_text               0\n",
            "dtype: int64\n",
            "214300\n"
          ]
        }
      ]
    },
    {
      "cell_type": "code",
      "source": [
        "cols_to_check = ['query_class', 'product_class', 'category hierarchy', 'product_description']\n",
        "\n",
        "cleaned_df = merged_df.dropna(subset=cols_to_check).reset_index(drop=True)\n",
        "print(cleaned_df.info())\n",
        "print(cleaned_df.isnull().sum())\n",
        "print(cleaned_df.isnull().sum().sum())\n",
        "print(cleaned_df.head())"
      ],
      "metadata": {
        "colab": {
          "base_uri": "https://localhost:8080/"
        },
        "id": "EvTvVZf3SdrE",
        "outputId": "3b8f3331-1ecc-4884-c91d-65e5092ea495"
      },
      "execution_count": 30,
      "outputs": [
        {
          "output_type": "stream",
          "name": "stdout",
          "text": [
            "<class 'pandas.core.frame.DataFrame'>\n",
            "RangeIndex: 181907 entries, 0 to 181906\n",
            "Data columns (total 15 columns):\n",
            " #   Column               Non-Null Count   Dtype  \n",
            "---  ------               --------------   -----  \n",
            " 0   id                   181907 non-null  int64  \n",
            " 1   query_id             181907 non-null  int64  \n",
            " 2   product_id           181907 non-null  int64  \n",
            " 3   label                181907 non-null  object \n",
            " 4   query                181907 non-null  object \n",
            " 5   query_class          181907 non-null  object \n",
            " 6   product_name         181907 non-null  object \n",
            " 7   product_class        181907 non-null  object \n",
            " 8   category hierarchy   181907 non-null  object \n",
            " 9   product_description  181907 non-null  object \n",
            " 10  product_features     181907 non-null  object \n",
            " 11  rating_count         145991 non-null  float64\n",
            " 12  average_rating       145991 non-null  float64\n",
            " 13  review_count         145991 non-null  float64\n",
            " 14  product_text         181907 non-null  object \n",
            "dtypes: float64(3), int64(3), object(9)\n",
            "memory usage: 20.8+ MB\n",
            "None\n",
            "id                         0\n",
            "query_id                   0\n",
            "product_id                 0\n",
            "label                      0\n",
            "query                      0\n",
            "query_class                0\n",
            "product_name               0\n",
            "product_class              0\n",
            "category hierarchy         0\n",
            "product_description        0\n",
            "product_features           0\n",
            "rating_count           35916\n",
            "average_rating         35916\n",
            "review_count           35916\n",
            "product_text               0\n",
            "dtype: int64\n",
            "107748\n",
            "   id  query_id  product_id       label        query     query_class  \\\n",
            "0   0         0       25434       Exact  salon chair  Massage Chairs   \n",
            "1   1         0       12088  Irrelevant  salon chair  Massage Chairs   \n",
            "2   2         0       42931       Exact  salon chair  Massage Chairs   \n",
            "3   3         0        2636       Exact  salon chair  Massage Chairs   \n",
            "4   5         0       41156       Exact  salon chair  Massage Chairs   \n",
            "\n",
            "                                        product_name  \\\n",
            "0       21.7 '' w waiting room chair with wood frame   \n",
            "1                  22.5 '' wide polyester side chair   \n",
            "2      24.4 '' w metal lounge chair with metal frame   \n",
            "3  25 '' wide faux leather manual swivel standard...   \n",
            "4  31.6 '' wide faux leather manual swivel ergono...   \n",
            "\n",
            "              product_class  \\\n",
            "0       Waiting Room Chairs   \n",
            "1             Accent Chairs   \n",
            "2  Reception Seating Chairs   \n",
            "3                 Recliners   \n",
            "4                 Recliners   \n",
            "\n",
            "                                  category hierarchy  \\\n",
            "0  Commercial Business Furniture / Commercial Off...   \n",
            "1  Furniture / Living Room Furniture / Chairs & S...   \n",
            "2  Shop Product Type / Chairs / Guest & Reception...   \n",
            "3  Furniture / Living Room Furniture / Chairs & S...   \n",
            "4  Furniture / Living Room Furniture / Chairs & S...   \n",
            "\n",
            "                                 product_description  \\\n",
            "0  this is a salon chair , barber chair for a hai...   \n",
            "1  add a beautiful accent to any room with this m...   \n",
            "2  the heavy duty barber chair is built to last ....   \n",
            "3  this is a chair designed for your barbershop ....   \n",
            "4  this barber chair would be a perfect choice fo...   \n",
            "\n",
            "                                    product_features  rating_count  \\\n",
            "0  backupholsterycolor : champagne|primarymateria...           NaN   \n",
            "1  overalldepth-fronttoback:27.5|design : side ch...           NaN   \n",
            "2  color : black|seatcushionorupholsteryfillmater...           1.0   \n",
            "3  design : standard recliner|warrantylength:60 d...           5.0   \n",
            "4  positiontype:3-position|supplierintendedandapp...           NaN   \n",
            "\n",
            "   average_rating  review_count  \\\n",
            "0             NaN           NaN   \n",
            "1             NaN           NaN   \n",
            "2             4.0           0.0   \n",
            "3             5.0           3.0   \n",
            "4             NaN           NaN   \n",
            "\n",
            "                                        product_text  \n",
            "0  21.7 '' w waiting room chair with wood frame t...  \n",
            "1  22.5 '' wide polyester side chair add a beauti...  \n",
            "2  24.4 '' w metal lounge chair with metal frame ...  \n",
            "3  25 '' wide faux leather manual swivel standard...  \n",
            "4  31.6 '' wide faux leather manual swivel ergono...  \n"
          ]
        }
      ]
    },
    {
      "cell_type": "code",
      "source": [],
      "metadata": {
        "id": "QHicOrvLXJ_s"
      },
      "execution_count": null,
      "outputs": []
    }
  ]
}